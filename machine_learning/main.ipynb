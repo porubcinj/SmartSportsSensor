{
 "cells": [
  {
   "cell_type": "code",
   "execution_count": null,
   "metadata": {},
   "outputs": [],
   "source": [
    "from Classifications import Classifications\n",
    "import tensorflow as tf\n",
    "from tensorflow.keras.layers import InputLayer, Conv1D, GlobalAveragePooling1D, Dense, Lambda\n",
    "from tensorflow.keras.models import Sequential"
   ]
  },
  {
   "cell_type": "code",
   "execution_count": null,
   "metadata": {},
   "outputs": [],
   "source": [
    "TIME_STEPS = 48\n",
    "NUM_FEATURES = 6\n",
    "classifications = Classifications()\n",
    "model_h_path = \"../model_data.h\""
   ]
  },
  {
   "cell_type": "code",
   "execution_count": null,
   "metadata": {},
   "outputs": [],
   "source": [
    "slice_indexes = tf.cumsum(tf.concat([[0], [len(v) for v in classifications.classifications.values()]], axis=0))\n",
    "\n",
    "def custom_softmax(x):\n",
    "    return tf.concat([\n",
    "        tf.nn.softmax(x[:, slice_indexes[i]:slice_indexes[i+1]]) \n",
    "        for i in range(len(slice_indexes) - 1)\n",
    "    ], axis=1)\n",
    "\n",
    "model = Sequential([\n",
    "    InputLayer(shape=(TIME_STEPS, NUM_FEATURES)),\n",
    "    Conv1D(64, kernel_size=3, activation=\"relu\"),\n",
    "    GlobalAveragePooling1D(),\n",
    "    Dense(32, activation=\"relu\"),\n",
    "    Dense(16, activation=\"relu\"),\n",
    "    Dense(classifications.num_classes),\n",
    "    Lambda(custom_softmax),\n",
    "])\n",
    "\n",
    "model.summary()"
   ]
  },
  {
   "cell_type": "code",
   "execution_count": null,
   "metadata": {},
   "outputs": [],
   "source": [
    "sample_input = tf.random.uniform(shape=(1, TIME_STEPS, NUM_FEATURES))\n",
    "prediction = model.predict(sample_input)\n",
    "\n",
    "start_idx = end_idx = 0\n",
    "predictions = []\n",
    "for classes in classifications.classifications.values():\n",
    "    end_idx += len(classes)\n",
    "    pred_idx = tf.argmax(prediction[:, start_idx:end_idx], axis=1)[0]\n",
    "    start_idx = end_idx\n",
    "    predictions.append(classes[pred_idx])\n",
    "print(f\"Prediction: {' '.join(reversed(predictions))}\")"
   ]
  },
  {
   "cell_type": "code",
   "execution_count": null,
   "metadata": {},
   "outputs": [],
   "source": [
    "converter = tf.lite.TFLiteConverter.from_keras_model(model)\n",
    "tflite_model = converter.convert()"
   ]
  },
  {
   "cell_type": "code",
   "execution_count": null,
   "metadata": {},
   "outputs": [],
   "source": [
    "with open(model_h_path, \"w\") as f:\n",
    "    f.write(\"#ifndef _MODEL_DATA_H_\\n#define _MODEL_DATA_H_\\n\")\n",
    "    f.write(\"const unsigned char model[] = {\")\n",
    "    f.write(\",\".join(f\"0x{b:02x}\" for b in tflite_model))\n",
    "    f.write(\"};\\n#endif\\n\")"
   ]
  }
 ],
 "metadata": {
  "kernelspec": {
   "display_name": ".venv",
   "language": "python",
   "name": "python3"
  },
  "language_info": {
   "codemirror_mode": {
    "name": "ipython",
    "version": 3
   },
   "file_extension": ".py",
   "mimetype": "text/x-python",
   "name": "python",
   "nbconvert_exporter": "python",
   "pygments_lexer": "ipython3",
   "version": "3.12.9"
  }
 },
 "nbformat": 4,
 "nbformat_minor": 2
}
